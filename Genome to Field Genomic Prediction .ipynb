{
 "cells": [
  {
   "cell_type": "markdown",
   "metadata": {},
   "source": [
    "##### 1. Obtain phenotypic and genetic datasets from G2F resources "
   ]
  },
  {
   "cell_type": "markdown",
   "metadata": {},
   "source": []
  },
  {
   "cell_type": "markdown",
   "metadata": {},
   "source": [
    "Since hybrid crop performance has low correlation with inbred per se data and hybrids have more data points, hybrid data are used for modeling. "
   ]
  },
  {
   "cell_type": "markdown",
   "metadata": {
    "scrolled": true
   },
   "source": [
    "a. Obtain hybrid and inbred GBS codes  "
   ]
  },
  {
   "cell_type": "code",
   "execution_count": 1,
   "metadata": {
    "scrolled": true
   },
   "outputs": [
    {
     "name": "stdout",
     "output_type": "stream",
     "text": [
      "2149 hybrids with GBS data;  52 hybrids are missing GBS data:  \n",
      "Inbred GBS codes:  829 Female,  60 Male,  845 Total"
     ]
    }
   ],
   "source": [
    "gbsHybridCodes = read.csv('g2f_2017_gbs_hybrid_codes.csv', stringsAsFactor=F)\n",
    "missingGBSIndex = gbsHybridCodes[,'Female.GBS'] =='#N/A' | gbsHybridCodes[,'Male.GBS'] =='#N/A'\n",
    "gbsHybridCodes = subset(gbsHybridCodes, !missingGBSIndex)  \n",
    "cat(nrow(gbsHybridCodes), 'hybrids with GBS data; ', sum(missingGBSIndex), \"hybrids are missing GBS data: \",  \"\\n\")\n",
    "femaleGbsCode  = unique(unlist(gbsHybridCodes[,'Female.GBS']))\n",
    "maleGbsCode = unique(unlist(gbsHybridCodes[,'Male.GBS']))\n",
    "inbredGbsCode = unique(c(femaleGbsCode, maleGbsCode))\n",
    "cat('Inbred GBS codes: ', length(femaleGbsCode), 'Female, ', length(maleGbsCode), 'Male, ', length(inbredGbsCode), 'Total') \n",
    "save(gbsHybridCodes, file='gbsHybridCodes.Rdata')"
   ]
  },
  {
   "cell_type": "markdown",
   "metadata": {},
   "source": [
    "b. Genotypic data: \n",
    "   1. Read and process imputed inbred GBS data; \n",
    "   2. Then obtain hybrid genotype score by combining female and male inbred GBS data.  "
   ]
  },
  {
   "cell_type": "code",
   "execution_count": 2,
   "metadata": {},
   "outputs": [
    {
     "name": "stdout",
     "output_type": "stream",
     "text": [
      "Total number of GBS markers:  945574 \n",
      "Obtained 845 inbred lines with GBS markers"
     ]
    }
   ],
   "source": [
    "if (!requireNamespace(\"BiocManager\", quietly = TRUE)) {\n",
    "    install.packages(\"BiocManager\")\n",
    "    BiocManager::install(version = \"3.10\")\n",
    "}\n",
    "if (!requireNamespace(\"rhdf5\", quietly = TRUE)) \n",
    "    BiocManager::install(c(\"rhdf5\"))\n",
    "library(rhdf5) \n",
    "# Read imputed inbred GBS data from h5 file\n",
    "genotype <- h5read(\"g2f_2017_ZeaGBSv27_Imputed_AGPv4.h5\", \n",
    "                   paste(\"/Genotypes/\", inbredGbsCode[1], \"/calls\", sep=\"\"))\n",
    "\n",
    "genotypeAll = matrix (NA, length(inbredGbsCode), length(genotype))\n",
    "for (iCode in 1:length(inbredGbsCode)){ \n",
    " genotype <- h5read(\"g2f_2017_ZeaGBSv27_Imputed_AGPv4.h5\", \n",
    "                    paste('/Genotypes/',inbredGbsCode[iCode], \"/calls\", sep=''))\n",
    " genotypeAll[iCode, ] =  genotype   \n",
    "}\n",
    "rm(genotype)\n",
    "# End of read imputed inbred GBS data from h5 file\n",
    "cat('Total number of GBS markers: ', ncol(genotypeAll), '\\n')\n",
    "cat('Obtained', nrow(genotypeAll), 'inbred lines with GBS markers')\n",
    "saveRDS(genotypeAll, file='genotypeAllFull.RDS')"
   ]
  },
  {
   "cell_type": "markdown",
   "metadata": {},
   "source": [
    "A quick look at the number of genotypes at each marker. Most of the markers have only two genotypes, which is expected since those are inbred lines. Around 46% of markers have more than 3 genotypes. This means that there are more than two alleles at those marker position.  "
   ]
  },
  {
   "cell_type": "code",
   "execution_count": 3,
   "metadata": {},
   "outputs": [
    {
     "data": {
      "text/html": [
       "<table>\n",
       "<tbody>\n",
       "\t<tr><th scope=row>genotypeNum</th><td>2     </td><td>3     </td><td>4     </td><td>5     </td><td>6     </td><td>7     </td><td>8     </td><td>9     </td><td>10    </td><td>11    </td><td>12    </td><td>13    </td><td>14    </td><td>15    </td><td>16    </td><td>17    </td><td>20    </td></tr>\n",
       "\t<tr><th scope=row>Freq</th><td>366352</td><td>139845</td><td>207494</td><td>178275</td><td> 31084</td><td> 14177</td><td>  5673</td><td>  1742</td><td>   806</td><td>    55</td><td>    34</td><td>    16</td><td>     9</td><td>     7</td><td>     3</td><td>     1</td><td>     1</td></tr>\n",
       "</tbody>\n",
       "</table>\n"
      ],
      "text/latex": [
       "\\begin{tabular}{r|lllllllllllllllll}\n",
       "\tgenotypeNum & 2      & 3      & 4      & 5      & 6      & 7      & 8      & 9      & 10     & 11     & 12     & 13     & 14     & 15     & 16     & 17     & 20    \\\\\n",
       "\tFreq & 366352 & 139845 & 207494 & 178275 &  31084 &  14177 &   5673 &   1742 &    806 &     55 &     34 &     16 &      9 &      7 &      3 &      1 &      1\\\\\n",
       "\\end{tabular}\n"
      ],
      "text/markdown": [
       "\n",
       "| genotypeNum | 2      | 3      | 4      | 5      | 6      | 7      | 8      | 9      | 10     | 11     | 12     | 13     | 14     | 15     | 16     | 17     | 20     |\n",
       "| Freq | 366352 | 139845 | 207494 | 178275 |  31084 |  14177 |   5673 |   1742 |    806 |     55 |     34 |     16 |      9 |      7 |      3 |      1 |      1 |\n",
       "\n"
      ],
      "text/plain": [
       "            [,1]   [,2]   [,3]   [,4]   [,5]   [,6]   [,7]   [,8]   [,9]  \n",
       "genotypeNum 2      3      4      5      6      7      8      9      10    \n",
       "Freq        366352 139845 207494 178275  31084  14177   5673   1742    806\n",
       "            [,10]  [,11]  [,12]  [,13]  [,14]  [,15]  [,16]  [,17] \n",
       "genotypeNum 11     12     13     14     15     16     17     20    \n",
       "Freq            55     34     16      9      7      3      1      1"
      ]
     },
     "metadata": {},
     "output_type": "display_data"
    },
    {
     "name": "stdout",
     "output_type": "stream",
     "text": [
      "Proportion of markers with more than 3 genotypes:  0.464667"
     ]
    }
   ],
   "source": [
    "compute_genotype_num = function (a) length(unique(a))\n",
    "genotypeNum = apply(genotypeAll, 2, compute_genotype_num)\n",
    "markerStatistic = table(genotypeNum)\n",
    "t(data.frame(markerStatistic))\n",
    "cat ('Proportion of markers with more than 3 genotypes: ', sum(markerStatistic[-c(1:2)])/sum(markerStatistic))"
   ]
  },
  {
   "cell_type": "markdown",
   "metadata": {},
   "source": [
    "For this analysis, we are going to use markers with only have two genotypes (this means that they are all bi-allelic markers). Based on Meuwissen's rule of thumb, accurate genomic selection will require 10 x Ne x L markers, where Ne is effective population size (should be much less than 845 inbred codes used in this experiement), and L (18 Morgan for maize) is genome length in Morgan. Since Ne should be much less than 845 for this data, we need less than 10 x 845 x 18 = 152,100 markers for genomic prediction. With 366 K bi-allelic markers, we have dense enough markers for genomic prediction.   "
   ]
  },
  {
   "cell_type": "code",
   "execution_count": 4,
   "metadata": {},
   "outputs": [
    {
     "name": "stdout",
     "output_type": "stream",
     "text": [
      "Total number of GBS markers with just two genotypes:  366352"
     ]
    }
   ],
   "source": [
    "# Only keep markers with only two genotypes \n",
    "markerToKeep = genotypeNum==2  \n",
    "genotypeAll = genotypeAll[, markerToKeep]\n",
    "saveRDS(genotypeAll, file='genotypeAllBiAllele.RDS')\n",
    "cat('Total number of GBS markers with just two genotypes: ', ncol(genotypeAll))  "
   ]
  },
  {
   "cell_type": "markdown",
   "metadata": {},
   "source": [
    "Remove markers with less than 0.05 in terms of minor allele frequency.  "
   ]
  },
  {
   "cell_type": "code",
   "execution_count": 5,
   "metadata": {},
   "outputs": [
    {
     "name": "stdout",
     "output_type": "stream",
     "text": [
      "Total number of GBS markers after further filtering by minor allele frequency:  232631"
     ]
    }
   ],
   "source": [
    "compute_minor_allele_freq=function(a) min(table(a)/length(a)) \n",
    "minorAlleleFreq = apply(genotypeAll, 2, compute_minor_allele_freq)\n",
    "MAFThreshold = 0.05 # Minor allele frequency threshold\n",
    "genotypeAll = genotypeAll[, minorAlleleFreq >= MAFThreshold]\n",
    "saveRDS(genotypeAll, file='genotypeAllProcessed.RDS') # genotypeAll= readRDS('genotypeAllProcessed.RDS')\n",
    "cat('Total number of GBS markers after further filtering by minor allele frequency: ', ncol(genotypeAll))"
   ]
  },
  {
   "cell_type": "markdown",
   "metadata": {},
   "source": [
    "Change genotype table to genotype score. Genotype score for major allle is coded as 0 so that when genotype score matrix is save as sparse matrix, more memory space can be saved.  "
   ]
  },
  {
   "cell_type": "code",
   "execution_count": 6,
   "metadata": {},
   "outputs": [
    {
     "name": "stderr",
     "output_type": "stream",
     "text": [
      "Loading required package: Matrix\n"
     ]
    },
    {
     "data": {
      "text/plain": [
       "5 x 10 sparse Matrix of class \"dgCMatrix\"\n",
       "                                      \n",
       "PI539921:250031401 . . . 1 1 . 1 1 1 .\n",
       "PI601170:250032540 . . . . . . 1 1 1 .\n",
       "LH198:100000467    . . . . . . . . . .\n",
       "PI537097:250033872 . . . . . . . . . .\n",
       "LH132:250007440    . . . . . . . . . ."
      ]
     },
     "metadata": {},
     "output_type": "display_data"
    }
   ],
   "source": [
    "minor_allele_genotype = function(a) names(sort(table(a)))[1]\n",
    "minorAlleleGenotype = apply(genotypeAll, 2, minor_allele_genotype)\n",
    "genotypeScore = matrix(NA, nrow(genotypeAll), ncol(genotypeAll))\n",
    "genotypeScore[ t(t(genotypeAll) == minorAlleleGenotype ) ] = 1\n",
    "genotypeScore[ t(t(genotypeAll) != minorAlleleGenotype ) ] = 0\n",
    "# Change genotype score matrix to sparse matrix\n",
    "require(Matrix)\n",
    "genotypeScore = Matrix(genotypeScore, sparse = TRUE)\n",
    "rownames(genotypeScore) = inbredGbsCode\n",
    "saveRDS(genotypeScore, file='genotypeScore.RDS')\n",
    "genotypeScore[1:5,1:10]"
   ]
  },
  {
   "cell_type": "markdown",
   "metadata": {},
   "source": [
    "Obtain hybrid genotype score data by simply averaging female and male genotype score data. "
   ]
  },
  {
   "cell_type": "code",
   "execution_count": 7,
   "metadata": {},
   "outputs": [
    {
     "data": {
      "text/html": [
       "<table>\n",
       "<thead><tr><th></th><th scope=col>used</th><th scope=col>(Mb)</th><th scope=col>gc trigger</th><th scope=col>(Mb)</th><th scope=col>max used</th><th scope=col>(Mb)</th></tr></thead>\n",
       "<tbody>\n",
       "\t<tr><th scope=row>Ncells</th><td> 1608530 </td><td> 86.0    </td><td>  2482911</td><td> 132.7   </td><td>  2925215</td><td> 156.3   </td></tr>\n",
       "\t<tr><th scope=row>Vcells</th><td>52541915 </td><td>400.9    </td><td>568261744</td><td>4335.5   </td><td>976475057</td><td>7450.0   </td></tr>\n",
       "</tbody>\n",
       "</table>\n"
      ],
      "text/latex": [
       "\\begin{tabular}{r|llllll}\n",
       "  & used & (Mb) & gc trigger & (Mb) & max used & (Mb)\\\\\n",
       "\\hline\n",
       "\tNcells &  1608530  &  86.0     &   2482911 &  132.7    &   2925215 &  156.3   \\\\\n",
       "\tVcells & 52541915  & 400.9     & 568261744 & 4335.5    & 976475057 & 7450.0   \\\\\n",
       "\\end{tabular}\n"
      ],
      "text/markdown": [
       "\n",
       "| <!--/--> | used | (Mb) | gc trigger | (Mb) | max used | (Mb) |\n",
       "|---|---|---|---|---|---|---|\n",
       "| Ncells |  1608530  |  86.0     |   2482911 |  132.7    |   2925215 |  156.3    |\n",
       "| Vcells | 52541915  | 400.9     | 568261744 | 4335.5    | 976475057 | 7450.0    |\n",
       "\n"
      ],
      "text/plain": [
       "       used     (Mb)  gc trigger (Mb)   max used  (Mb)  \n",
       "Ncells  1608530  86.0   2482911   132.7   2925215  156.3\n",
       "Vcells 52541915 400.9 568261744  4335.5 976475057 7450.0"
      ]
     },
     "metadata": {},
     "output_type": "display_data"
    },
    {
     "data": {
      "text/html": [
       "<table>\n",
       "<thead><tr><th></th><th scope=col>used</th><th scope=col>(Mb)</th><th scope=col>gc trigger</th><th scope=col>(Mb)</th><th scope=col>max used</th><th scope=col>(Mb)</th></tr></thead>\n",
       "<tbody>\n",
       "\t<tr><th scope=row>Ncells</th><td>  1612550</td><td>  86.2   </td><td>  2482911</td><td> 132.7   </td><td>  2925215</td><td> 156.3   </td></tr>\n",
       "\t<tr><th scope=row>Vcells</th><td>195983987</td><td>1495.3   </td><td>867085382</td><td>6615.4   </td><td>976475057</td><td>7450.0   </td></tr>\n",
       "</tbody>\n",
       "</table>\n"
      ],
      "text/latex": [
       "\\begin{tabular}{r|llllll}\n",
       "  & used & (Mb) & gc trigger & (Mb) & max used & (Mb)\\\\\n",
       "\\hline\n",
       "\tNcells &   1612550 &   86.2    &   2482911 &  132.7    &   2925215 &  156.3   \\\\\n",
       "\tVcells & 195983987 & 1495.3    & 867085382 & 6615.4    & 976475057 & 7450.0   \\\\\n",
       "\\end{tabular}\n"
      ],
      "text/markdown": [
       "\n",
       "| <!--/--> | used | (Mb) | gc trigger | (Mb) | max used | (Mb) |\n",
       "|---|---|---|---|---|---|---|\n",
       "| Ncells |   1612550 |   86.2    |   2482911 |  132.7    |   2925215 |  156.3    |\n",
       "| Vcells | 195983987 | 1495.3    | 867085382 | 6615.4    | 976475057 | 7450.0    |\n",
       "\n"
      ],
      "text/plain": [
       "       used      (Mb)   gc trigger (Mb)   max used  (Mb)  \n",
       "Ncells   1612550   86.2   2482911   132.7   2925215  156.3\n",
       "Vcells 195983987 1495.3 867085382  6615.4 976475057 7450.0"
      ]
     },
     "metadata": {},
     "output_type": "display_data"
    }
   ],
   "source": [
    "# Free up memory space by removing intermediate objects that no longer needed\n",
    "rm( list = ls()[!ls()%in%c('genotypeScore', 'gbsHybridCodes')])\n",
    "gc()\n",
    "hybridGenotypeScore = (genotypeScore[gbsHybridCodes[, 'Female.GBS'], ]  + genotypeScore[gbsHybridCodes[, 'Male.GBS'], ]) /2\n",
    "rownames(hybridGenotypeScore) = gbsHybridCodes$Pedigree\n",
    "saveRDS(hybridGenotypeScore, file= 'hybridGenotypeScore.RDS')\n",
    "rm(genotypeScore)\n",
    "gc()"
   ]
  },
  {
   "cell_type": "markdown",
   "metadata": {},
   "source": [
    "c. Download clean phenotypic data after outliers are removed from 2014 to 2017 \n",
    "\n",
    "Choose two reprentative traits, yield and moisture, for genomic prediction analysis for the following reasons: \n",
    "1. Both are important for corn production. \n",
    "2. One trait (moisture) has high heritability and the other (yield) has relative low heritability. "
   ]
  },
  {
   "cell_type": "code",
   "execution_count": 8,
   "metadata": {},
   "outputs": [],
   "source": [
    "dataLink = 'https://de.cyverse.org/anon-files//iplant/home/shared/commons_repo/curated/GenomesToFields_2014_2017_v1/'\n",
    "phen14 = read.csv(file = paste(dataLink, 'G2F_Planting_Season_2014_v4/a._2014_hybrid_phenotypic_data/g2f_2014_hybrid_data_clean.csv', sep=''))\n",
    "phen15 = read.csv(paste(dataLink,'G2F_Planting_Season_2015_v2/a._2015_hybrid_phenotypic_data/g2f_2015_hybrid_data_clean.csv', sep=''))\n",
    "phen16 = read.csv(paste(dataLink,'G2F_Planting_Season_2016_v2/a._2016_hybrid_phenotypic_data/g2f_2016_hybrid_data_clean.csv', sep=''))\n",
    "phen17 = read.csv(paste(dataLink,'G2F_Planting_Season_2017_v1/a._2017_hybrid_phenotypic_data/g2f_2017_hybrid_data_clean.csv', sep=''))"
   ]
  },
  {
   "cell_type": "markdown",
   "metadata": {},
   "source": [
    "Combined phenotypic data into one phenotype object "
   ]
  },
  {
   "cell_type": "code",
   "execution_count": 9,
   "metadata": {},
   "outputs": [],
   "source": [
    "colnames(phen14)[1] ='Year' \n",
    "colnames(phen15)[1] ='Year' \n",
    "colnames(phen16)[1] ='Year' \n",
    "colnames(phen17)[1] ='Year' \n",
    "phenotype = rbind(phen14, phen15, phen16, phen17)\n",
    "phenotype = subset(phenotype, select=c('Year', 'Field.Location',  'Pedigree', 'Replicate', 'Block', 'Plot', 'Range',     'Rows.Plot',  'Anthesis..date.', 'Silking..date.', 'Pollen.DAP..days.', 'Silk.DAP..days.', 'Plant.Height..cm.', \n",
    "                           'Ear.Height..cm.', 'Stand.Count..plants.', 'Root.Lodging..plants.', 'Stalk.Lodging..plants.', 'Grain.Moisture....', 'Test.Weight..lbs.bu.' , 'Grain.Yield..bu.A.'))\n",
    "saveRDS(phenotype, file='phenotype.RDS') "
   ]
  },
  {
   "cell_type": "markdown",
   "metadata": {},
   "source": [
    "##### 2. Partition the dataset to build training and testing sets\n",
    "\n",
    "There are two partitions in separating training and testing sets. \n",
    "1. The partition is done by leaving out one year data as testing data. For example, training data: 2014, 2015, and 2016 Testing data: 2017. \n",
    "2. Random sample 20% of hybrid pedigrees from testing data and further remove those pedigrees' phenotypic data in the training years from training data sets\n",
    "\n",
    "Such partitions allow us to test the models under three different situtations (newEnvOldPed, oldEnvNewPed, and newEnvNewPed) shown in the following table"
   ]
  },
  {
   "cell_type": "markdown",
   "metadata": {},
   "source": [
    "|     | training_environment (oldEnv) | testing_environment (newEnv) |\n",
    "| --- | --- | --- |\n",
    "| pedigrees in training (oldPed) | oldEnvOldPed | newEnvOldPed |\n",
    "| pedigrees NOT in training (newPed)  | oldEnvNewPed | newEnvNewPed |"
   ]
  },
  {
   "cell_type": "code",
   "execution_count": 10,
   "metadata": {},
   "outputs": [],
   "source": [
    "traitList = c('Grain.Moisture....', 'Grain.Yield..bu.A.')\n",
    "yearList = c('2014', '2015', '2016', '2017')\n",
    "# Year combination (single or three year) for phenotypic BLUP analysis\n",
    "yearCombination =list(\n",
    "                      c('2015', '2016', '2017'), # leave out 2014\n",
    "                      c('2014', '2016', '2017'), # Leave out 2015\n",
    "                      c('2014', '2015', '2017'), # Leave out 2016 \n",
    "                      c('2014', '2015', '2016'), # leave out 2017\n",
    "                      c('2014'), \n",
    "                      c('2015'),\n",
    "                      c('2016'),\n",
    "                      c('2017')\n",
    "                      )"
   ]
  },
  {
   "cell_type": "markdown",
   "metadata": {},
   "source": [
    "Phenotype BLUP are first analyzed with one year or three year of raw phenotypic data \n",
    "\n",
    "Phenotypic analysis: Pedgrees, locations, blocks are treated as random effects, Blocks are nested within locations, and Year as fixed effect. "
   ]
  },
  {
   "cell_type": "code",
   "execution_count": 11,
   "metadata": {},
   "outputs": [
    {
     "name": "stderr",
     "output_type": "stream",
     "text": [
      "Loading required package: lme4\n",
      "Warning message:\n",
      "\"package 'lme4' was built under R version 3.6.2\""
     ]
    }
   ],
   "source": [
    "compute_BLUP  = function(phenotype, trait, yearList){\n",
    "    # Input phenotype, trait to analysis, which years data to analysis\n",
    "    # Ouput BLUP result for pedigrees\n",
    "    require(lme4)\n",
    "    phenotype = subset(phenotype, Year%in%yearList)    \n",
    "    phenotype$TRAIT = phenotype[, trait]    \n",
    "    phenotype$Pedigree = as.factor(as.vector(phenotype$Pedigree))    \n",
    "    phenotype$Field.Location = as.factor(as.vector(phenotype$Field.Location))\n",
    "    phenotype$Block = as.factor(as.vector(phenotype$Block))    \n",
    "    if (length(unique(phenotype$Year))==1) {\n",
    "        model  = lmer(TRAIT ~ 1 + (1|Pedigree) + (1|Field.Location/Block), \n",
    "                      data = subset(phenotype, !is.na(TRAIT))) # Block nested within location        \n",
    "    } else {  \n",
    "        phenotype$Year = as.factor(as.vector(phenotype$Year)) \n",
    "        model  =  lmer(TRAIT ~ 1 +  (1|Pedigree) + (Year|Field.Location/Block), data = subset(phenotype, !is.na(TRAIT))) # Block nested within location        \n",
    "    } \n",
    "    # \n",
    "   return (ranef(model)$Pedigree) \n",
    "}\n",
    "\n",
    "blupAll = NULL\n",
    "for (iTrait in traitList){\n",
    "    for (iYearCombination in 1:length(yearCombination)){\n",
    "       blup = compute_BLUP(phenotype, iTrait, yearCombination[[iYearCombination]])\n",
    "       blup = data.frame(Pedigree = rownames(blup), Trait =iTrait, Value = blup[, 1], Year_combination= paste(yearCombination[[iYearCombination]], collapse=\" \"))   \n",
    "       blup$Pedigree = as.vector(blup$Pedigree)\n",
    "       blupAll = rbind(blupAll, blup)\n",
    "    }           \n",
    "}\n",
    "\n",
    "saveRDS(blupAll, file='blupAll.RDS') "
   ]
  },
  {
   "cell_type": "code",
   "execution_count": 12,
   "metadata": {},
   "outputs": [
    {
     "name": "stdout",
     "output_type": "stream",
     "text": [
      "[1] \"Training, testing data sets, and trait combination for modeling\"\n"
     ]
    },
    {
     "data": {
      "text/html": [
       "<table>\n",
       "<thead><tr><th></th><th scope=col>Train</th><th scope=col>Test</th><th scope=col>Trait</th></tr></thead>\n",
       "<tbody>\n",
       "\t<tr><th scope=row>1</th><td>2015 2016 2017    </td><td>2014              </td><td>Grain.Moisture....</td></tr>\n",
       "\t<tr><th scope=row>2</th><td>2015 2016 2017    </td><td>2014              </td><td>Grain.Yield..bu.A.</td></tr>\n",
       "\t<tr><th scope=row>21</th><td>2014 2016 2017    </td><td>2015              </td><td>Grain.Moisture....</td></tr>\n",
       "\t<tr><th scope=row>22</th><td>2014 2016 2017    </td><td>2015              </td><td>Grain.Yield..bu.A.</td></tr>\n",
       "\t<tr><th scope=row>3</th><td>2014 2015 2017    </td><td>2016              </td><td>Grain.Moisture....</td></tr>\n",
       "\t<tr><th scope=row>31</th><td>2014 2015 2017    </td><td>2016              </td><td>Grain.Yield..bu.A.</td></tr>\n",
       "\t<tr><th scope=row>4</th><td>2014 2015 2016    </td><td>2017              </td><td>Grain.Moisture....</td></tr>\n",
       "\t<tr><th scope=row>41</th><td>2014 2015 2016    </td><td>2017              </td><td>Grain.Yield..bu.A.</td></tr>\n",
       "</tbody>\n",
       "</table>\n"
      ],
      "text/latex": [
       "\\begin{tabular}{r|lll}\n",
       "  & Train & Test & Trait\\\\\n",
       "\\hline\n",
       "\t1 & 2015 2016 2017     & 2014               & Grain.Moisture....\\\\\n",
       "\t2 & 2015 2016 2017     & 2014               & Grain.Yield..bu.A.\\\\\n",
       "\t21 & 2014 2016 2017     & 2015               & Grain.Moisture....\\\\\n",
       "\t22 & 2014 2016 2017     & 2015               & Grain.Yield..bu.A.\\\\\n",
       "\t3 & 2014 2015 2017     & 2016               & Grain.Moisture....\\\\\n",
       "\t31 & 2014 2015 2017     & 2016               & Grain.Yield..bu.A.\\\\\n",
       "\t4 & 2014 2015 2016     & 2017               & Grain.Moisture....\\\\\n",
       "\t41 & 2014 2015 2016     & 2017               & Grain.Yield..bu.A.\\\\\n",
       "\\end{tabular}\n"
      ],
      "text/markdown": [
       "\n",
       "| <!--/--> | Train | Test | Trait |\n",
       "|---|---|---|---|\n",
       "| 1 | 2015 2016 2017     | 2014               | Grain.Moisture.... |\n",
       "| 2 | 2015 2016 2017     | 2014               | Grain.Yield..bu.A. |\n",
       "| 21 | 2014 2016 2017     | 2015               | Grain.Moisture.... |\n",
       "| 22 | 2014 2016 2017     | 2015               | Grain.Yield..bu.A. |\n",
       "| 3 | 2014 2015 2017     | 2016               | Grain.Moisture.... |\n",
       "| 31 | 2014 2015 2017     | 2016               | Grain.Yield..bu.A. |\n",
       "| 4 | 2014 2015 2016     | 2017               | Grain.Moisture.... |\n",
       "| 41 | 2014 2015 2016     | 2017               | Grain.Yield..bu.A. |\n",
       "\n"
      ],
      "text/plain": [
       "   Train          Test Trait             \n",
       "1  2015 2016 2017 2014 Grain.Moisture....\n",
       "2  2015 2016 2017 2014 Grain.Yield..bu.A.\n",
       "21 2014 2016 2017 2015 Grain.Moisture....\n",
       "22 2014 2016 2017 2015 Grain.Yield..bu.A.\n",
       "3  2014 2015 2017 2016 Grain.Moisture....\n",
       "31 2014 2015 2017 2016 Grain.Yield..bu.A.\n",
       "4  2014 2015 2016 2017 Grain.Moisture....\n",
       "41 2014 2015 2016 2017 Grain.Yield..bu.A."
      ]
     },
     "metadata": {},
     "output_type": "display_data"
    }
   ],
   "source": [
    "# Training and testing combination for genomic prediction\n",
    "trainingTestingCombination= data.frame(Train =c(\n",
    "                          '2015 2016 2017',  \n",
    "                          '2014 2016 2017',  \n",
    "                          '2014 2015 2017', \n",
    "                          '2014 2015 2016'),\n",
    "                                 Test = c('2014', '2015', '2016', '2017')\n",
    "                                )\n",
    "\n",
    "trainTestTrait = NULL\n",
    "for (iYear in c('2014', '2015', '2016', '2017')){       \n",
    "    for (iTrait in traitList){\n",
    "        tmp= subset(trainingTestingCombination, Test==iYear)\n",
    "        tmp$Trait = iTrait\n",
    "        trainTestTrait = rbind(trainTestTrait, tmp)\n",
    "    } \n",
    "} \n",
    "print('Training, testing data sets, and trait combination for modeling')\n",
    "trainTestTrait "
   ]
  },
  {
   "cell_type": "code",
   "execution_count": 13,
   "metadata": {},
   "outputs": [],
   "source": [
    "remove_partial_line_in_testingdata_from_training = function(testingYear, trait){\n",
    "    # Input testing year\n",
    "    # Output one fifth pedigrees that are from testing year. These pedigrees will be removed from training data\n",
    "    set.seed(123) # set the same seed so that we can get back the same splitted samples for training and testing\n",
    "    pedigree = subset(blupAll, Year_combination == testingYear & Trait == trait)$Pedigree\n",
    "    pedigree = sample(pedigree, ceiling(0.2*length(pedigree)) , replace=FALSE)\n",
    "    pedigree = pedigree [pedigree%in%gbsHybridCodes$Pedigree] \n",
    "    return(pedigree)\n",
    "}\n",
    "\n",
    "# Obtain the list of pedigree to be removed from each training and testing combinations\n",
    "lineRemoveFromTraining = list()\n",
    "for (iYear in yearList){\n",
    "    lineRemoveFromTraining[[iYear]] = list() \n",
    "    for (iTrait in traitList){\n",
    "        lineRemoveFromTraining[[iYear]][[iTrait]] = remove_partial_line_in_testingdata_from_training (iYear, iTrait)\n",
    "    }\n",
    "} \n",
    "\n",
    "training_phenotype_preparation = function(trainRow) {  \n",
    "  tmp = trainTestTrait[trainRow, ] \n",
    "  blup = subset(blupAll, Year_combination == as.vector(tmp$Train) & Trait== as.vector(tmp$Trait)) \n",
    "  blup = subset(blup, !Pedigree%in%lineRemoveFromTraining[[tmp$Test]][[tmp$Trait]]) \n",
    "  blup = subset(blup, Pedigree%in%gbsHybridCodes$Pedigree)  \n",
    "  return (blup)  \n",
    "}  "
   ]
  },
  {
   "cell_type": "markdown",
   "metadata": {},
   "source": [
    "##### 3. Genomic prediction models:\n",
    "a. Penalized linear regression (glmnet) \n",
    "   Phenotype is model as the linear summmation of marker effects. During training, marker coefficient were constrained between      lasso and ridge regression penalty.  \n",
    "b. Kernel regression: \n",
    "   1. G-BLUP: a simple linear kernel (marker relationship matrix) from markers\n",
    "   2. Gaussian kernel: a Euclidean distance based Gaussian kernel, the model can potentially model epistasis  "
   ]
  },
  {
   "cell_type": "code",
   "execution_count": 14,
   "metadata": {},
   "outputs": [],
   "source": [
    "generate_five_fold_cross_validation_list=function(y, foldNo=5){\n",
    "  # Input sample number, and fold number of cross-valiation. \n",
    "  # Default is five-fold cross-validation during training to pick the best parameters for the model \n",
    "  # Output sample number list for cross-validation\n",
    "  randomList = sample(1:length(y), replace=F) \n",
    "  crossValidationList =rep(list(NULL),foldNo)\n",
    "  for (i in 1:foldNo){\n",
    "      temp=rep(FALSE, 5)\n",
    "      temp[i] =TRUE \n",
    "      crossValidationList[[i]] = randomList[temp] \n",
    "  }  \n",
    "  return (crossValidationList)\n",
    "}\n"
   ]
  },
  {
   "cell_type": "markdown",
   "metadata": {},
   "source": [
    "Penalized linear regression function using glmnet package"
   ]
  },
  {
   "cell_type": "code",
   "execution_count": 15,
   "metadata": {},
   "outputs": [],
   "source": [
    "cross_validation_glmnet=function(x, y, foldNo=5){\n",
    "  # Input: genotype data x for training, phenotype data y for training\n",
    "  # Ouput: prediction for all hybrid with genotype data\n",
    "  # Approach: Cross-validation approach with training data is first used to find the best parameters. \n",
    "  # Then model is built with all training data with the best parameters for prediction. \n",
    "  require(glmnet)\n",
    "  alphaSeq=c(0.01, 0.1, 0.2*(1:5)) \n",
    "  lambdaSeq=c(seq(0.01,1, 0.01),1:100)\n",
    "  alphaLambdaCorrelationNet = NULL     \n",
    "  crossValidationList = generate_five_fold_cross_validation_list(y, foldNo)\n",
    "    \n",
    "  for (iAlpha in alphaSeq){  \n",
    "    lambdaCorrelation=0 \n",
    "    for (j in 1:foldNo){  # j=1 ; # Five-fold nested cross-validation.         \n",
    "     validationRandom = crossValidationList[[j]]        \n",
    "     fit=glmnet(x[-validationRandom,],y[-validationRandom], alpha=iAlpha) # fit=glmnet(trainGeno,trainPheno, alpha=1) ; fit2=glmnet(trainGeno,trainPheno, alpha=0.5)\n",
    "     predictFit=predict(fit,newx=x[validationRandom,], s=lambdaSeq) \n",
    "     options(warn=-1) # Ignore warnings when correlation is not available \n",
    "     tempCorrel=cor(predictFit, y[validationRandom], use=\"complete\")\n",
    "     options(warn=0) # Turn warning back\n",
    "     tempCorrel[is.na(tempCorrel)] = -1\n",
    "     lambdaCorrelation=lambdaCorrelation+tempCorrel\n",
    "    }\n",
    "    lambdaCorrelation=lambdaCorrelation/5\n",
    "    alphaLambdaCorrelationNet=cbind(alphaLambdaCorrelationNet,lambdaCorrelation)\n",
    "  }\n",
    "    \n",
    "    alphaMax=matrix(rep(alphaSeq, length(lambdaSeq)),length(lambdaSeq),byrow=T)\n",
    "    lambdaMax=matrix(rep(lambdaSeq, length(alphaSeq)),,length(lambdaSeq),byrow=F)\n",
    "     \n",
    "    alphaMax=alphaMax[alphaLambdaCorrelationNet==max(alphaLambdaCorrelationNet)]\n",
    "    lambdaMax=lambdaMax[alphaLambdaCorrelationNet==max(alphaLambdaCorrelationNet)]\n",
    "    # Retrain with whole data set\n",
    "    fit=glmnet(x,y,alpha=alphaMax)  \n",
    "    # Generate prediction for all hybrids with genotype data\n",
    "    predictFit=predict(fit,newx=hybridGenotypeScore, s=lambdaMax)     \n",
    "    return(predictFit) \n",
    "}   "
   ]
  },
  {
   "cell_type": "markdown",
   "metadata": {},
   "source": [
    "Kernel regression using mixed effect model from rrBLUP package"
   ]
  },
  {
   "cell_type": "code",
   "execution_count": 16,
   "metadata": {},
   "outputs": [],
   "source": [
    "kernel_predict = function(kernelMatrix, blup){\n",
    "    # Input kernel matrix\n",
    "    # Ouput prediction for all breeding values\n",
    "    blup2 = rep(NA, length(gbsHybridCodes$Pedigree))\n",
    "    names(blup2) = gbsHybridCodes$Pedigree\n",
    "    blup2[as.vector(blup$Pedigree)] = blup[, 'Value']    \n",
    "    require(rrBLUP)\n",
    "    ans <- mixed.solve(blup2,K = kernelMatrix) \n",
    "    predict = ans$u \n",
    "    names(predict) = gbsHybridCodes$Pedigree\n",
    "    return(predict)\n",
    "}"
   ]
  },
  {
   "cell_type": "code",
   "execution_count": 17,
   "metadata": {},
   "outputs": [],
   "source": [
    "train_predict_to_list = function(blup, predict){\n",
    "  # Combine phenotypic data in training and predition in one list  \n",
    "  trainPredict = list()\n",
    "  trainPredict[['train_blup']] = blup \n",
    "  trainPredict[['predict']] = predict   \n",
    "  return(trainPredict) \n",
    "}"
   ]
  },
  {
   "cell_type": "markdown",
   "metadata": {},
   "source": [
    "Genomic prediction with three algorithms \n",
    "\n",
    "Python instead of R is used to build the kernel matrix for regression. My PC doesn't have enough memory to build kernel matrix in R with large number of markers. Please see the attached python notebook for detail. "
   ]
  },
  {
   "cell_type": "code",
   "execution_count": 18,
   "metadata": {},
   "outputs": [],
   "source": [
    "glmnetPredictAll = list() \n",
    "GBLUPPredictAll = list() \n",
    "euKernelPredictAll =list()\n",
    "for (iRow in 1:nrow(trainTestTrait)){\n",
    "  # Obtain phenotypic data for training  \n",
    "  blup =training_phenotype_preparation (iRow)  \n",
    "    \n",
    "  # Glmnet modeling \n",
    "  predict = cross_validation_glmnet(hybridGenotypeScore[as.vector(blup$Pedigree), ], blup[,\"Value\"], foldNo=5)\n",
    "  glmnetPredictAll[[iRow]] = train_predict_to_list(blup, predict) \n",
    "  \n",
    "  # G-BLUP modeling  \n",
    "  if ('kernelMatrix'%in% ls()) rm(kernelMatrix)\n",
    "  load('kernelMatrix_G.gzip') # Linear kernel matrix\n",
    "  predict = kernel_predict(kernelMatrix, blup)\n",
    "  GBLUPPredictAll[[iRow]] = train_predict_to_list(blup, predict)      \n",
    "  \n",
    "  # Euclidean distance based Gaussian kernel regression modeling  \n",
    "  if ('kernelMatrix'%in% ls()) rm(kernelMatrix)\n",
    "  load('kernelMatrix_eu_dist.gzip') # Euclidean distance based Gaussian kernel matrix   \n",
    "  predict = kernel_predict(kernelMatrix, blup)\n",
    "  euKernelPredictAll[[iRow]] = train_predict_to_list(blup, predict)     \n",
    "}\n",
    "save(glmnetPredictAll, GBLUPPredictAll, euKernelPredictAll, file ='genomePredictionResult.Rdata')"
   ]
  },
  {
   "cell_type": "markdown",
   "metadata": {},
   "source": [
    "Compute predictive correlation and overlapping porportion from selection"
   ]
  },
  {
   "cell_type": "code",
   "execution_count": 19,
   "metadata": {},
   "outputs": [],
   "source": [
    "compute_correlation_overlap_result=function(trainRow, predictionResult){ # trainRow =1; \n",
    "     prediction = predictionResult[[trainRow]]\n",
    "     temp = trainTestTrait[trainRow, ] # traing, test year, and trait  \n",
    "     # All BLUP data in training year combination\n",
    "     blupTrain = subset(blupAll, Year_combination%in%temp$Train & Trait ==temp$Trait)\n",
    "     # BLUP data in testing year \n",
    "     blupTest = subset(blupAll, Year_combination%in%temp$Test & Trait ==temp$Trait)\n",
    "    \n",
    "     blup_OldEnvNewPedigree = subset(blupTrain, !(Pedigree%in% prediction$train_blup$Pedigree)) \n",
    "     blup_OldEnvOldPedigree = prediction$train_blup \n",
    "     blup_NewEnvNewPedigree = subset(blupTest, !(Pedigree%in% prediction$train_blup$Pedigree)) \n",
    "     blup_NewEnvOldPedigree = subset(blupTest, (Pedigree%in% prediction$train_blup$Pedigree))           \n",
    "      \n",
    "     # Rank the value and obtain top certain proportion of pedigrees\n",
    "     get_top_pedigree=function(data, valueColumn, trait, topRate = 0.3){ \n",
    "        if (trait =='Grain.Yield..bu.A.')   data = data[order(-data[, valueColumn]),] \n",
    "        if (trait =='Grain.Moisture....')   data = data[order(data[, valueColumn]),] \n",
    "        data$RANK = (1:nrow(data))/nrow(data)\n",
    "        topPedigree = data[data$RANK <=topRate, ]$Pedigree\n",
    "        return (topPedigree)\n",
    "     } \n",
    "         \n",
    "     obs_pred_compare =function(observe, predict){ # predict = prediction$predict; observe = blup_OldEnvNewPedigree\n",
    "          # Input observation and prediction\n",
    "          # Ouput the their correlation and overlapping proportion\n",
    "          predict = prediction$predict \n",
    "          if (length(dim(prediction$predict)) ==2) predict=predict[,1] \n",
    "          predict= data.frame(Pedigree=names(predict), predict=predict)\n",
    "          obsPredict = merge(observe, predict, by='Pedigree', all.x=T)\n",
    "          obsPredict = subset(obsPredict, (!is.na(Value)) &  (!is.na(predict)))\n",
    "          correlation = with(obsPredict, cor(Value, predict, use='complete'))\n",
    "          # Compute overlapping proportion of pedigrees\n",
    "          topObs = get_top_pedigree(obsPredict, \"Value\", temp$Trait)\n",
    "          topPredict =  get_top_pedigree(obsPredict, \"predict\", temp$Trait)\n",
    "          overlapProportion = length(intersect(topObs, topPredict))/length(topObs)          \n",
    "          return( round(c(correlation, overlapProportion),3))          \n",
    "     }  \n",
    "     oldEnv_OldPed_training = obs_pred_compare(blup_OldEnvOldPedigree, prediction$predict) \n",
    "     oldEnv_NewPed_test = obs_pred_compare(blup_OldEnvNewPedigree, prediction$predict) \n",
    "     newEnv_OldPed_test = obs_pred_compare(blup_NewEnvOldPedigree, prediction$predict) \n",
    "     newEnv_NewPed_test = obs_pred_compare(blup_NewEnvNewPedigree, prediction$predict)\n",
    "\n",
    "     correlationOverlapResult = data.frame(train_year =temp$Train, test_year = temp$Test, trait = temp$Trait, \n",
    "        oldEnvOldPed_cor = oldEnv_OldPed_training[1], \n",
    "        oldEnvNewPed_cor = oldEnv_NewPed_test[1] ,\n",
    "        newEnvOldPed_cor = newEnv_OldPed_test[1],                           \n",
    "        newEnvNewPed_cor = newEnv_NewPed_test[1],\n",
    "        oldEnvOldPed_overlap = oldEnv_OldPed_training[2], \n",
    "        oldEnvNewPed_overlap =oldEnv_NewPed_test[2]   , \n",
    "        newEnvOldPed_overlap = newEnv_OldPed_test[2] , \n",
    "         newEnvNewPed_overlap = newEnv_NewPed_test[2]   \n",
    "     ) \n",
    "  return (correlationOverlapResult)  \n",
    "} "
   ]
  },
  {
   "cell_type": "code",
   "execution_count": 20,
   "metadata": {},
   "outputs": [],
   "source": [
    "GBLUPResult = NULL\n",
    "glmnetResult = NULL\n",
    "euKernelResult = NULL\n",
    "for (i in 1:8){\n",
    "  GBLUPResult =rbind(GBLUPResult, compute_correlation_overlap_result(i, GBLUPPredictAll))\n",
    "  glmnetResult =rbind(glmnetResult, compute_correlation_overlap_result(i, glmnetPredictAll))  \n",
    "  euKernelResult =rbind(euKernelResult, compute_correlation_overlap_result(i, euKernelPredictAll))\n",
    "}"
   ]
  },
  {
   "cell_type": "code",
   "execution_count": 21,
   "metadata": {},
   "outputs": [],
   "source": [
    "result_summary=function(predictionResult, statistics ='cor', traitName = \"\", method=\"\"){\n",
    "    if (traitName!=\"\") predictionResult = subset(predictionResult, trait == traitName)\n",
    "    if (statistics =='cor') {\n",
    "        resultCol = -grep('_overlap', colnames(glmnetResult))\n",
    "     } else {\n",
    "      resultCol = -grep('_cor', colnames(glmnetResult))\n",
    "     }\n",
    "    predictionResult = predictionResult[, resultCol]\n",
    "    colnames(predictionResult) = gsub(paste('_', statistics, sep=''), '', colnames(predictionResult)) \n",
    "    predictionResult = predictionResult[order(predictionResult$trait), ]\n",
    "     \n",
    "    average = round(apply(predictionResult[, -c(1:3)] , 2, mean),3)\n",
    "    average['train_year'] =''\n",
    "    average['test_year'] ='Average'\n",
    "    average['trait'] = traitName\n",
    "    average = average[colnames(predictionResult)] \n",
    "    average= data.frame(t(average)) \n",
    "    result = rbind(predictionResult, average)\n",
    "    if (method !='') result =data.frame(method, result)\n",
    "    return(result)\n",
    "} \n",
    "summary_by_method = function(statistics){ \n",
    " # Combine results from different methods and traits   \n",
    " resultAll =NULL\n",
    " for (iTrait in traitList){\n",
    "  resultTrait=rbind(result_summary(glmnetResult, statistics, iTrait, 'glmnet'),  \n",
    "  result_summary(GBLUPResult, statistics, iTrait, 'G-BLUP'),   \n",
    "  result_summary(euKernelResult, statistics, iTrait, 'Gaussian Kernel'))  \n",
    "   resultAll=rbind( resultAll,  resultTrait)   \n",
    "  } \n",
    "  return(resultAll)\n",
    "}\n",
    "\n",
    "prediciveAbilityResult =  summary_by_method('cor') \n",
    "selectionReliabilityResult = summary_by_method( 'overlap')   "
   ]
  },
  {
   "cell_type": "markdown",
   "metadata": {},
   "source": [
    "##### 4. Model comparison"
   ]
  },
  {
   "cell_type": "markdown",
   "metadata": {},
   "source": [
    "The following table shows the predictive correlation for different models, averaged from four training-and-testing-year combinations. \n",
    "\n",
    "For yield, Gaussian kernel regression gives the highest prediction accuracy under all the following three situations \n",
    " 1. predict new pedigree in new environment, newEnvNewPed (21% better than G-BLUP and glmnet) \n",
    " 2. predict old pedigree in new envionment, newEnvoldPed  (14% better than G-BLUP and glmnet)\n",
    " 3. predict new pedigree in old environment, oldEnvNewPed (14% better than G-BLUP and glmnet)\n",
    "\n",
    "For moisture, the difference among three methods are small.  \n",
    "\n",
    "Overall, glmnet and G-BLUP have very similar prediction accuracy for both yield and moisture"
   ]
  },
  {
   "cell_type": "code",
   "execution_count": 22,
   "metadata": {},
   "outputs": [
    {
     "data": {
      "text/html": [
       "<table>\n",
       "<thead><tr><th></th><th scope=col>method</th><th scope=col>trait</th><th scope=col>oldEnvNewPed</th><th scope=col>newEnvOldPed</th><th scope=col>newEnvNewPed</th></tr></thead>\n",
       "<tbody>\n",
       "\t<tr><th scope=row>11</th><td>glmnet            </td><td>Grain.Moisture....</td><td>0.885             </td><td>0.876             </td><td>0.817             </td></tr>\n",
       "\t<tr><th scope=row>111</th><td>G-BLUP            </td><td>Grain.Moisture....</td><td>0.884             </td><td>0.876             </td><td>0.814             </td></tr>\n",
       "\t<tr><th scope=row>112</th><td>Gaussian Kernel   </td><td>Grain.Moisture....</td><td>0.887             </td><td>0.872             </td><td>0.806             </td></tr>\n",
       "\t<tr><th scope=row>14</th><td>glmnet            </td><td>Grain.Yield..bu.A.</td><td>0.621             </td><td>0.627             </td><td>0.388             </td></tr>\n",
       "\t<tr><th scope=row>113</th><td>G-BLUP            </td><td>Grain.Yield..bu.A.</td><td>0.62              </td><td>0.643             </td><td>0.396             </td></tr>\n",
       "\t<tr><th scope=row>121</th><td>Gaussian Kernel   </td><td>Grain.Yield..bu.A.</td><td>0.706             </td><td>0.733             </td><td>0.481             </td></tr>\n",
       "</tbody>\n",
       "</table>\n"
      ],
      "text/latex": [
       "\\begin{tabular}{r|lllll}\n",
       "  & method & trait & oldEnvNewPed & newEnvOldPed & newEnvNewPed\\\\\n",
       "\\hline\n",
       "\t11 & glmnet             & Grain.Moisture.... & 0.885              & 0.876              & 0.817             \\\\\n",
       "\t111 & G-BLUP             & Grain.Moisture.... & 0.884              & 0.876              & 0.814             \\\\\n",
       "\t112 & Gaussian Kernel    & Grain.Moisture.... & 0.887              & 0.872              & 0.806             \\\\\n",
       "\t14 & glmnet             & Grain.Yield..bu.A. & 0.621              & 0.627              & 0.388             \\\\\n",
       "\t113 & G-BLUP             & Grain.Yield..bu.A. & 0.62               & 0.643              & 0.396             \\\\\n",
       "\t121 & Gaussian Kernel    & Grain.Yield..bu.A. & 0.706              & 0.733              & 0.481             \\\\\n",
       "\\end{tabular}\n"
      ],
      "text/markdown": [
       "\n",
       "| <!--/--> | method | trait | oldEnvNewPed | newEnvOldPed | newEnvNewPed |\n",
       "|---|---|---|---|---|---|\n",
       "| 11 | glmnet             | Grain.Moisture.... | 0.885              | 0.876              | 0.817              |\n",
       "| 111 | G-BLUP             | Grain.Moisture.... | 0.884              | 0.876              | 0.814              |\n",
       "| 112 | Gaussian Kernel    | Grain.Moisture.... | 0.887              | 0.872              | 0.806              |\n",
       "| 14 | glmnet             | Grain.Yield..bu.A. | 0.621              | 0.627              | 0.388              |\n",
       "| 113 | G-BLUP             | Grain.Yield..bu.A. | 0.62               | 0.643              | 0.396              |\n",
       "| 121 | Gaussian Kernel    | Grain.Yield..bu.A. | 0.706              | 0.733              | 0.481              |\n",
       "\n"
      ],
      "text/plain": [
       "    method          trait              oldEnvNewPed newEnvOldPed newEnvNewPed\n",
       "11  glmnet          Grain.Moisture.... 0.885        0.876        0.817       \n",
       "111 G-BLUP          Grain.Moisture.... 0.884        0.876        0.814       \n",
       "112 Gaussian Kernel Grain.Moisture.... 0.887        0.872        0.806       \n",
       "14  glmnet          Grain.Yield..bu.A. 0.621        0.627        0.388       \n",
       "113 G-BLUP          Grain.Yield..bu.A. 0.62         0.643        0.396       \n",
       "121 Gaussian Kernel Grain.Yield..bu.A. 0.706        0.733        0.481       "
      ]
     },
     "metadata": {},
     "output_type": "display_data"
    }
   ],
   "source": [
    "# Averaged predictive correlation across 4 years\n",
    "predictionAbilityAverage = subset(prediciveAbilityResult, test_year =='Average', select=-(oldEnvOldPed))\n",
    "predictionAbilityAverage [, -grep('year', colnames(predictionAbilityAverage)) ] "
   ]
  },
  {
   "cell_type": "markdown",
   "metadata": {},
   "source": [
    "The following table shows the proportion of common entries between observed and predicted phenotype at top 30% selection intensity with different models, averaged from four training-and-testing-year combinations. \n",
    "\n",
    "For yield, Gaussian kernel regression gives the highest overlapping proportion under all three situations: \n",
    " 1. predict new pedigree in new environment, newEnvNewPed \n",
    " 2. predict old pedigree in new envionment, newEnvoldPed  \n",
    " 3. predict new pedigree in old environment, oldEnvNewPed\n",
    " \n",
    "For moisture, the difference among three methods are small.   "
   ]
  },
  {
   "cell_type": "code",
   "execution_count": 23,
   "metadata": {},
   "outputs": [
    {
     "data": {
      "text/html": [
       "<table>\n",
       "<thead><tr><th></th><th scope=col>method</th><th scope=col>trait</th><th scope=col>oldEnvNewPed</th><th scope=col>newEnvOldPed</th><th scope=col>newEnvNewPed</th></tr></thead>\n",
       "<tbody>\n",
       "\t<tr><th scope=row>11</th><td>glmnet            </td><td>Grain.Moisture....</td><td>0.772             </td><td>0.8               </td><td>0.783             </td></tr>\n",
       "\t<tr><th scope=row>111</th><td>G-BLUP            </td><td>Grain.Moisture....</td><td>0.74              </td><td>0.797             </td><td>0.786             </td></tr>\n",
       "\t<tr><th scope=row>112</th><td>Gaussian Kernel   </td><td>Grain.Moisture....</td><td>0.743             </td><td>0.802             </td><td>0.765             </td></tr>\n",
       "\t<tr><th scope=row>14</th><td>glmnet            </td><td>Grain.Yield..bu.A.</td><td>0.577             </td><td>0.548             </td><td>0.501             </td></tr>\n",
       "\t<tr><th scope=row>113</th><td>G-BLUP            </td><td>Grain.Yield..bu.A.</td><td>0.59              </td><td>0.563             </td><td>0.497             </td></tr>\n",
       "\t<tr><th scope=row>121</th><td>Gaussian Kernel   </td><td>Grain.Yield..bu.A.</td><td>0.663             </td><td>0.612             </td><td>0.542             </td></tr>\n",
       "</tbody>\n",
       "</table>\n"
      ],
      "text/latex": [
       "\\begin{tabular}{r|lllll}\n",
       "  & method & trait & oldEnvNewPed & newEnvOldPed & newEnvNewPed\\\\\n",
       "\\hline\n",
       "\t11 & glmnet             & Grain.Moisture.... & 0.772              & 0.8                & 0.783             \\\\\n",
       "\t111 & G-BLUP             & Grain.Moisture.... & 0.74               & 0.797              & 0.786             \\\\\n",
       "\t112 & Gaussian Kernel    & Grain.Moisture.... & 0.743              & 0.802              & 0.765             \\\\\n",
       "\t14 & glmnet             & Grain.Yield..bu.A. & 0.577              & 0.548              & 0.501             \\\\\n",
       "\t113 & G-BLUP             & Grain.Yield..bu.A. & 0.59               & 0.563              & 0.497             \\\\\n",
       "\t121 & Gaussian Kernel    & Grain.Yield..bu.A. & 0.663              & 0.612              & 0.542             \\\\\n",
       "\\end{tabular}\n"
      ],
      "text/markdown": [
       "\n",
       "| <!--/--> | method | trait | oldEnvNewPed | newEnvOldPed | newEnvNewPed |\n",
       "|---|---|---|---|---|---|\n",
       "| 11 | glmnet             | Grain.Moisture.... | 0.772              | 0.8                | 0.783              |\n",
       "| 111 | G-BLUP             | Grain.Moisture.... | 0.74               | 0.797              | 0.786              |\n",
       "| 112 | Gaussian Kernel    | Grain.Moisture.... | 0.743              | 0.802              | 0.765              |\n",
       "| 14 | glmnet             | Grain.Yield..bu.A. | 0.577              | 0.548              | 0.501              |\n",
       "| 113 | G-BLUP             | Grain.Yield..bu.A. | 0.59               | 0.563              | 0.497              |\n",
       "| 121 | Gaussian Kernel    | Grain.Yield..bu.A. | 0.663              | 0.612              | 0.542              |\n",
       "\n"
      ],
      "text/plain": [
       "    method          trait              oldEnvNewPed newEnvOldPed newEnvNewPed\n",
       "11  glmnet          Grain.Moisture.... 0.772        0.8          0.783       \n",
       "111 G-BLUP          Grain.Moisture.... 0.74         0.797        0.786       \n",
       "112 Gaussian Kernel Grain.Moisture.... 0.743        0.802        0.765       \n",
       "14  glmnet          Grain.Yield..bu.A. 0.577        0.548        0.501       \n",
       "113 G-BLUP          Grain.Yield..bu.A. 0.59         0.563        0.497       \n",
       "121 Gaussian Kernel Grain.Yield..bu.A. 0.663        0.612        0.542       "
      ]
     },
     "metadata": {},
     "output_type": "display_data"
    }
   ],
   "source": [
    "# Average overlapping proportion at top 30% selection\n",
    "selectionAbilityAverage = subset(selectionReliabilityResult, test_year=='Average', select=-(oldEnvOldPed))\n",
    "selectionAbilityAverage [, -grep('year', colnames(selectionAbilityAverage)) ] "
   ]
  },
  {
   "cell_type": "markdown",
   "metadata": {},
   "source": [
    "##### 5. Conclusion: \n",
    "Among three algorithms, I would recommend Gaussian kernel regression approach over G-BLUP and glmnet, given its highest prediction accuracy and overlapping selection proportion for yield. "
   ]
  }
 ],
 "metadata": {
  "kernelspec": {
   "display_name": "R",
   "language": "R",
   "name": "ir"
  },
  "language_info": {
   "codemirror_mode": "r",
   "file_extension": ".r",
   "mimetype": "text/x-r-source",
   "name": "R",
   "pygments_lexer": "r",
   "version": "3.6.1"
  }
 },
 "nbformat": 4,
 "nbformat_minor": 2
}
