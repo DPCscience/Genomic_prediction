{
 "cells": [
  {
   "cell_type": "markdown",
   "metadata": {},
   "source": [
    "#### Compute kernel matrix based on genotype score. \n",
    "1. G-Matrix (Linear kernel)\n",
    "2. Euclidean distance based Gaussian kernel"
   ]
  },
  {
   "cell_type": "markdown",
   "metadata": {},
   "source": [
    "Import genotype data (a R object) to python"
   ]
  },
  {
   "cell_type": "code",
   "execution_count": 1,
   "metadata": {},
   "outputs": [
    {
     "data": {
      "text/plain": [
       "(2149, 232631)"
      ]
     },
     "execution_count": 1,
     "metadata": {},
     "output_type": "execute_result"
    }
   ],
   "source": [
    "import numpy as np\n",
    "import rpy2.robjects as robjects\n",
    "from rpy2.robjects import r\n",
    "from rpy2.robjects.numpy2ri import numpy2ri \n",
    "\n",
    "robjects.r('''\n",
    "        load('hybridGenotypeScore.Rdata')         \n",
    "        ''')\n",
    "hybridGenotypeScore = robjects.globalenv['hybridGenotypeScore']\n",
    "np.shape(hybridGenotypeScore)"
   ]
  },
  {
   "cell_type": "markdown",
   "metadata": {},
   "source": [
    "Normalize the genotype data for each marker"
   ]
  },
  {
   "cell_type": "code",
   "execution_count": 2,
   "metadata": {},
   "outputs": [
    {
     "data": {
      "text/plain": [
       "array([[-0.60080131, -0.28266499, -0.25992471,  2.07422975,  2.07422975],\n",
       "       [-0.60080131, -0.28266499, -0.25992471, -0.43140248, -0.43140248],\n",
       "       [-0.60080131, -0.28266499, -0.25992471, -0.43140248, -0.43140248],\n",
       "       [-0.60080131, -0.28266499, -0.25992471, -0.43140248, -0.43140248],\n",
       "       [-0.60080131, -0.28266499, -0.25992471, -0.43140248, -0.43140248]])"
      ]
     },
     "execution_count": 2,
     "metadata": {},
     "output_type": "execute_result"
    }
   ],
   "source": [
    "from sklearn.metrics.pairwise import rbf_kernel\n",
    "from sklearn.preprocessing import scale\n",
    "scaledGenotype = scale(hybridGenotypeScore, axis=0, with_mean=True, with_std=True, copy=True)\n",
    "scaledGenotype[0:5, 0:5]"
   ]
  },
  {
   "cell_type": "markdown",
   "metadata": {},
   "source": [
    "Compute linear kernel (G-Matrix) and save it as a R object"
   ]
  },
  {
   "cell_type": "code",
   "execution_count": 3,
   "metadata": {},
   "outputs": [
    {
     "data": {
      "text/plain": [
       "rpy2.rinterface.NULL"
      ]
     },
     "execution_count": 3,
     "metadata": {},
     "output_type": "execute_result"
    }
   ],
   "source": [
    "p = scaledGenotype.shape[1] # Number of markers\n",
    "linearKernel = np.dot(scaledGenotype,scaledGenotype.T)/p\n",
    "linearKernel = np.array(linearKernel, dtype=\"float64\") # <- convert to double precision numeric since R doesn't have unsigned ints\n",
    "ro = numpy2ri(linearKernel)     \n",
    "r.assign(\"kernelMatrix\", ro)\n",
    "r(\"save(kernelMatrix, file='kernelMatrix_G.gzip', compress=TRUE)\") \n"
   ]
  },
  {
   "cell_type": "markdown",
   "metadata": {},
   "source": [
    "Compute Euclidean distance based Gaussian kernel and save it as a R object"
   ]
  },
  {
   "cell_type": "code",
   "execution_count": 4,
   "metadata": {},
   "outputs": [
    {
     "data": {
      "text/plain": [
       "rpy2.rinterface.NULL"
      ]
     },
     "execution_count": 4,
     "metadata": {},
     "output_type": "execute_result"
    }
   ],
   "source": [
    "from sklearn.metrics.pairwise import euclidean_distances\n",
    "euclideanDistKernel = ((euclidean_distances(scaledGenotype))**2) /p\n",
    "h = 0.5\n",
    "euclideanDistKernel = np.exp( - h*euclideanDistKernel)\n",
    "euclideanDistKernel = np.array(euclideanDistKernel, dtype=\"float64\") # <- convert to double precision numeric since R doesn't have unsigned ints\n",
    "ro = numpy2ri(euclideanDistKernel)     \n",
    "r.assign(\"kernelMatrix\", ro)\n",
    "r(\"save(kernelMatrix, file='kernelMatrix_eu_dist.gzip', compress=TRUE)\") "
   ]
  }
 ],
 "metadata": {
  "kernelspec": {
   "display_name": "Python 3",
   "language": "python",
   "name": "python3"
  },
  "language_info": {
   "codemirror_mode": {
    "name": "ipython",
    "version": 3
   },
   "file_extension": ".py",
   "mimetype": "text/x-python",
   "name": "python",
   "nbconvert_exporter": "python",
   "pygments_lexer": "ipython3",
   "version": "3.7.6"
  }
 },
 "nbformat": 4,
 "nbformat_minor": 2
}
